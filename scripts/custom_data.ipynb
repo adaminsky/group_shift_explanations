{
 "cells": [
  {
   "cell_type": "code",
   "execution_count": 2,
   "metadata": {},
   "outputs": [],
   "source": [
    "import numpy as np\n",
    "\n",
    "source = np.random.rand(1000, 100) # Replace this with your source data\n",
    "target = np.random.rand(1000, 100) # Replace this with your target data\n",
    "\n",
    "source_groups = np.random.randint(0, 2, size=(1000, 3)) # Replace this with your source groups where each column is a group\n",
    "target_groups = np.random.randint(0, 2, size=(1000, 3)) # Replace this with your target groups where each column is a group"
   ]
  },
  {
   "attachments": {},
   "cell_type": "markdown",
   "metadata": {},
   "source": [
    "# Optimal Transport Explanation"
   ]
  },
  {
   "cell_type": "code",
   "execution_count": 3,
   "metadata": {},
   "outputs": [
    {
     "name": "stdout",
     "output_type": "stream",
     "text": [
      "[0, 1, 2]\n",
      "Iter 0 loss: 1.0\n",
      "Change in x_s: 8.105287551879883\n",
      "Iter 1 loss: 0.8741427823042491\n",
      "Change in x_s: 7.543524742126465\n",
      "Iter 2 loss: 0.7662445110654399\n",
      "Change in x_s: 6.867072105407715\n",
      "Iter 3 loss: 0.6767327256293166\n",
      "Change in x_s: 6.233986854553223\n",
      "Iter 4 loss: 0.6028501342608558\n",
      "Change in x_s: 5.673004150390625\n",
      "Iter 5 loss: 0.5415903799191342\n",
      "Change in x_s: 5.169273853302002\n",
      "Iter 6 loss: 0.4906405332795457\n",
      "Change in x_s: 4.725920677185059\n",
      "Iter 7 loss: 0.4480426210878941\n",
      "Change in x_s: 4.316018581390381\n",
      "Iter 8 loss: 0.4124202697452787\n",
      "Change in x_s: 3.955700159072876\n",
      "Iter 9 loss: 0.3824859754668465\n",
      "Change in x_s: 3.6223528385162354\n",
      "Iter 10 loss: 0.3573651912137795\n",
      "Change in x_s: 3.32198429107666\n",
      "Iter 11 loss: 0.3362142162579401\n",
      "Change in x_s: 3.055140495300293\n",
      "Iter 12 loss: 0.3183010460997095\n",
      "Change in x_s: 2.8142974376678467\n",
      "Iter 13 loss: 0.303070085608783\n",
      "Change in x_s: 2.5983824729919434\n",
      "Iter 14 loss: 0.29006384739605967\n",
      "Change in x_s: 2.410369396209717\n",
      "Iter 15 loss: 0.27886866502629143\n",
      "Change in x_s: 2.2436563968658447\n",
      "Iter 16 loss: 0.2691710278088993\n",
      "Change in x_s: 2.0887410640716553\n",
      "Iter 17 loss: 0.26076745044773564\n",
      "Change in x_s: 1.939001202583313\n",
      "Iter 18 loss: 0.25351544789726826\n",
      "Change in x_s: 1.806043028831482\n",
      "Iter 19 loss: 0.24722011638548627\n",
      "Change in x_s: 1.6868325471878052\n",
      "Iter 20 loss: 0.2417206916805258\n",
      "Change in x_s: 1.5794717073440552\n",
      "Iter 21 loss: 0.23689777681878188\n",
      "Change in x_s: 1.4788830280303955\n",
      "Iter 22 loss: 0.23266657522140535\n",
      "Change in x_s: 1.3818914890289307\n",
      "Iter 23 loss: 0.22896448696404675\n",
      "Change in x_s: 1.3019236326217651\n",
      "Iter 24 loss: 0.22566868886035327\n",
      "Change in x_s: 1.234833836555481\n",
      "Iter 25 loss: 0.22269629473710933\n",
      "Change in x_s: 1.1781705617904663\n",
      "Iter 26 loss: 0.22000631166608428\n",
      "Change in x_s: 1.109076738357544\n",
      "Iter 27 loss: 0.2176226617916106\n",
      "Change in x_s: 1.0423635244369507\n",
      "Iter 28 loss: 0.21551212151541604\n",
      "Change in x_s: 0.988002359867096\n",
      "Iter 29 loss: 0.2136120823516808\n",
      "Change in x_s: 0.9330935478210449\n",
      "Iter 30 loss: 0.21190629402816563\n",
      "Change in x_s: 0.893257737159729\n",
      "Iter 31 loss: 0.2103448600572036\n",
      "Change in x_s: 0.8487213850021362\n",
      "Iter 32 loss: 0.20893546915061328\n",
      "Change in x_s: 0.8108054399490356\n",
      "Iter 33 loss: 0.20764992834889673\n",
      "Change in x_s: 0.7733591794967651\n",
      "Iter 34 loss: 0.20647996058644372\n",
      "Change in x_s: 0.7374435663223267\n",
      "Iter 35 loss: 0.2054190442680851\n",
      "Change in x_s: 0.7041772603988647\n",
      "Iter 36 loss: 0.20445606381290127\n",
      "Change in x_s: 0.6705899834632874\n",
      "Iter 37 loss: 0.20358303540024153\n",
      "Change in x_s: 0.6404020190238953\n",
      "Iter 38 loss: 0.20278922719271664\n",
      "Change in x_s: 0.6149289011955261\n",
      "Iter 39 loss: 0.2020583776141765\n",
      "Change in x_s: 0.5871963500976562\n",
      "Iter 40 loss: 0.20139091168097137\n",
      "Change in x_s: 0.5618974566459656\n",
      "Iter 41 loss: 0.2007798111421623\n",
      "Change in x_s: 0.542161762714386\n",
      "Iter 42 loss: 0.20021526590100897\n",
      "Change in x_s: 0.52223140001297\n",
      "Iter 43 loss: 0.19969454833957478\n",
      "Change in x_s: 0.5025634765625\n",
      "Iter 44 loss: 0.19921334742424873\n",
      "Change in x_s: 0.4810163974761963\n",
      "Iter 45 loss: 0.19877152080601934\n",
      "Change in x_s: 0.46011707186698914\n",
      "Iter 46 loss: 0.19836590916710017\n",
      "Change in x_s: 0.4460233449935913\n",
      "Iter 47 loss: 0.1979825648414568\n",
      "Change in x_s: 0.43857595324516296\n",
      "Iter 48 loss: 0.19761161116425657\n",
      "Change in x_s: 0.4291282892227173\n",
      "Iter 49 loss: 0.19726067399081043\n",
      "Change in x_s: 0.416582852602005\n",
      "Iter 50 loss: 0.19693098777023454\n",
      "Change in x_s: 0.4003097712993622\n",
      "Iter 51 loss: 0.1966261252999233\n",
      "Change in x_s: 0.3871901333332062\n",
      "Iter 52 loss: 0.19634079351984657\n",
      "Change in x_s: 0.37481310963630676\n",
      "Iter 53 loss: 0.1960702531262471\n",
      "Change in x_s: 0.3906543254852295\n",
      "Iter 54 loss: 0.19577550738444294\n",
      "Change in x_s: 0.3801953196525574\n",
      "Iter 55 loss: 0.19550017292123734\n",
      "Change in x_s: 0.36616313457489014\n",
      "Iter 56 loss: 0.19524594417327207\n",
      "Change in x_s: 0.3592560887336731\n",
      "Iter 57 loss: 0.19500178095630236\n",
      "Change in x_s: 0.3602443337440491\n",
      "Iter 58 loss: 0.19476035897477284\n",
      "Change in x_s: 0.3477008044719696\n",
      "Iter 59 loss: 0.19453307160379188\n",
      "Change in x_s: 0.3340315818786621\n",
      "Iter 60 loss: 0.19432310012604165\n",
      "Change in x_s: 0.31922030448913574\n",
      "Iter 61 loss: 0.19413108648722444\n",
      "Change in x_s: 0.3078688681125641\n",
      "Iter 62 loss: 0.19395336022532936\n",
      "Change in x_s: 0.2980675995349884\n",
      "Iter 63 loss: 0.19378793431032382\n",
      "Change in x_s: 0.28826168179512024\n",
      "Iter 64 loss: 0.19363268441593495\n",
      "Change in x_s: 0.28486037254333496\n",
      "Iter 65 loss: 0.19348043722979671\n",
      "Change in x_s: 0.2873484194278717\n",
      "Iter 66 loss: 0.19332768768856595\n",
      "Change in x_s: 0.28032609820365906\n",
      "Iter 67 loss: 0.19318288223898217\n",
      "Change in x_s: 0.27483370900154114\n",
      "Iter 68 loss: 0.19304267184661675\n",
      "Change in x_s: 0.26989540457725525\n",
      "Iter 69 loss: 0.1929076031715075\n",
      "Change in x_s: 0.26984885334968567\n",
      "Iter 70 loss: 0.19277340086592393\n",
      "Change in x_s: 0.27036815881729126\n",
      "Iter 71 loss: 0.19263923802213945\n",
      "Change in x_s: 0.26811614632606506\n",
      "Iter 72 loss: 0.1925086295687672\n",
      "Change in x_s: 0.2613902688026428\n",
      "Iter 73 loss: 0.19238509616147195\n",
      "Change in x_s: 0.2508462369441986\n",
      "Iter 74 loss: 0.19227016356366747\n",
      "Change in x_s: 0.26556575298309326\n",
      "Iter 75 loss: 0.19211696171982467\n",
      "Change in x_s: 0.3293231725692749\n",
      "Iter 76 loss: 0.1919113839216435\n",
      "Change in x_s: 0.3168734312057495\n",
      "Iter 77 loss: 0.1917259228684296\n",
      "Change in x_s: 0.31121280789375305\n",
      "Iter 78 loss: 0.19155066453172284\n",
      "Change in x_s: 0.2993440330028534\n",
      "Iter 79 loss: 0.19138781320402173\n",
      "Change in x_s: 0.2822355329990387\n",
      "Iter 80 loss: 0.1912417410775233\n",
      "Change in x_s: 0.26706716418266296\n",
      "Iter 81 loss: 0.19110863289261887\n",
      "Change in x_s: 0.2567174434661865\n",
      "Iter 82 loss: 0.19098649849422789\n",
      "Change in x_s: 0.25051331520080566\n",
      "Iter 83 loss: 0.19087065722566432\n",
      "Change in x_s: 0.2498389631509781\n",
      "Iter 84 loss: 0.19075943562087366\n",
      "Change in x_s: 0.23604875802993774\n",
      "Iter 85 loss: 0.19066177218831795\n",
      "Change in x_s: 0.22566738724708557\n",
      "Iter 86 loss: 0.19057403072773457\n",
      "Change in x_s: 0.21262358129024506\n",
      "Iter 87 loss: 0.1904968157808633\n",
      "Change in x_s: 0.20392268896102905\n",
      "Iter 88 loss: 0.19042595590285283\n",
      "Change in x_s: 0.2039540410041809\n",
      "Iter 89 loss: 0.19035390861018403\n",
      "Change in x_s: 0.2132348269224167\n",
      "Iter 90 loss: 0.19027660336874985\n",
      "Change in x_s: 0.20825955271720886\n",
      "Iter 91 loss: 0.19020173068323198\n",
      "Change in x_s: 0.2080303430557251\n",
      "Iter 92 loss: 0.1901278658056729\n",
      "Change in x_s: 0.20131783187389374\n",
      "Iter 93 loss: 0.1900556612161962\n",
      "Change in x_s: 0.2263641208410263\n",
      "Iter 94 loss: 0.1899642596519597\n",
      "Change in x_s: 0.22336329519748688\n",
      "Iter 95 loss: 0.1898760876354718\n",
      "Change in x_s: 0.23147039115428925\n",
      "Iter 96 loss: 0.18978416081840216\n",
      "Change in x_s: 0.2161150872707367\n",
      "Iter 97 loss: 0.1897044004800426\n",
      "Change in x_s: 0.20162731409072876\n",
      "Iter 98 loss: 0.18963564811623934\n",
      "Change in x_s: 0.18859262764453888\n",
      "Iter 99 loss: 0.18957643725683068\n",
      "Change in x_s: 0.17776167392730713\n",
      "Total Percent Explained: 84.11790834198436\n",
      "group 1 Percent Explained: 77.99178809208091\n",
      "group 2 Percent Explained: 80.52781628648393\n",
      "group 3 Percent Explained: 77.77521585107672\n",
      "Worst group PE: 77.77521585107672\n"
     ]
    }
   ],
   "source": [
    "from src.optimal_transport import group_feature_transport\n",
    "from src.distance import group_percent_explained\n",
    "\n",
    "source_transformed = group_feature_transport(\n",
    "    source, target, source_groups, target_groups, source.shape[1], lr=0.5, iters=100)\n",
    "\n",
    "total, worst = group_percent_explained(\n",
    "    source,\n",
    "    source_transformed,\n",
    "    target,\n",
    "    source_groups,\n",
    "    target_groups,\n",
    "    [\"group 1\", \"group 2\", \"group 3\"])"
   ]
  },
  {
   "attachments": {},
   "cell_type": "markdown",
   "metadata": {},
   "source": [
    "# K-cluster Explanation"
   ]
  },
  {
   "cell_type": "code",
   "execution_count": 6,
   "metadata": {},
   "outputs": [
    {
     "name": "stdout",
     "output_type": "stream",
     "text": [
      "Samples in cluster 0: 84\n",
      "Samples in cluster 1: 64\n",
      "Samples in cluster 2: 140\n",
      "Samples in cluster 3: 96\n",
      "Samples in cluster 4: 102\n",
      "Samples in cluster 5: 118\n",
      "Samples in cluster 6: 113\n",
      "Samples in cluster 7: 89\n",
      "Samples in cluster 8: 97\n",
      "Samples in cluster 9: 97\n",
      "Iter 0 loss: 1.0\n",
      "Change in x_s: 4.126061916351318\n",
      "Iter 1 loss: 0.7004918184265038\n",
      "Change in x_s: 3.138603687286377\n",
      "Iter 2 loss: 0.5266388813063566\n",
      "Change in x_s: 2.4056777954101562\n",
      "Iter 3 loss: 0.4242246317926116\n",
      "Change in x_s: 1.8561089038848877\n",
      "Iter 4 loss: 0.36305090202592744\n",
      "Change in x_s: 1.4435391426086426\n",
      "Iter 5 loss: 0.32596163546284607\n",
      "Change in x_s: 1.1304283142089844\n",
      "Iter 6 loss: 0.3031223503007\n",
      "Change in x_s: 0.8922674655914307\n",
      "Iter 7 loss: 0.2888405993124521\n",
      "Change in x_s: 0.7113515734672546\n",
      "Iter 8 loss: 0.27972478122289346\n",
      "Change in x_s: 0.5731436610221863\n",
      "Iter 9 loss: 0.27379171115399337\n",
      "Change in x_s: 0.4658910930156708\n",
      "Iter 10 loss: 0.2698642957740307\n",
      "Change in x_s: 0.37965157628059387\n",
      "Iter 11 loss: 0.26724540826927223\n",
      "Change in x_s: 0.31338396668434143\n",
      "Iter 12 loss: 0.2654541101450583\n",
      "Change in x_s: 0.26143527030944824\n",
      "Iter 13 loss: 0.2642058625537733\n",
      "Change in x_s: 0.21878133714199066\n",
      "Iter 14 loss: 0.26333034100615227\n",
      "Change in x_s: 0.18421821296215057\n",
      "Iter 15 loss: 0.26270677135648296\n",
      "Change in x_s: 0.15645267069339752\n",
      "Iter 16 loss: 0.26225755335494105\n",
      "Change in x_s: 0.13418525457382202\n",
      "Iter 17 loss: 0.2619262811435774\n",
      "Change in x_s: 0.11746054887771606\n",
      "Iter 18 loss: 0.26167520917229836\n",
      "Change in x_s: 0.10128730535507202\n",
      "Iter 19 loss: 0.26148758247447224\n",
      "Change in x_s: 0.08760473877191544\n",
      "Iter 20 loss: 0.26134558750335557\n",
      "Change in x_s: 0.07921852171421051\n",
      "Iter 21 loss: 0.26123067410395456\n",
      "Change in x_s: 0.07080084085464478\n",
      "Iter 22 loss: 0.2611388456477528\n",
      "Change in x_s: 0.06516049802303314\n",
      "Iter 23 loss: 0.2610613459735212\n",
      "Change in x_s: 0.059438999742269516\n",
      "Iter 24 loss: 0.2609971332941631\n",
      "Change in x_s: 0.053624946624040604\n",
      "Iter 25 loss: 0.2609446390902641\n",
      "Change in x_s: 0.04852950945496559\n",
      "Iter 26 loss: 0.26090157983941825\n",
      "Change in x_s: 0.043662477284669876\n",
      "Iter 27 loss: 0.2608668893213585\n",
      "Change in x_s: 0.04021633043885231\n",
      "Iter 28 loss: 0.2608373534511605\n",
      "Change in x_s: 0.03935978561639786\n",
      "Iter 29 loss: 0.26080899059012475\n",
      "Change in x_s: 0.04004896804690361\n",
      "Iter 30 loss: 0.26077991681205215\n",
      "Change in x_s: 0.04003696143627167\n",
      "Iter 31 loss: 0.2607507948025497\n",
      "Change in x_s: 0.04007308557629585\n",
      "Iter 32 loss: 0.2607223007599911\n",
      "Change in x_s: 0.035185378044843674\n",
      "Iter 33 loss: 0.26070066170265593\n",
      "Change in x_s: 0.030486930161714554\n",
      "Iter 34 loss: 0.2606846393425561\n",
      "Change in x_s: 0.026423361152410507\n",
      "Iter 35 loss: 0.26067271910110423\n",
      "Change in x_s: 0.023244258016347885\n",
      "Iter 36 loss: 0.2606633140892247\n",
      "Change in x_s: 0.021924136206507683\n",
      "Iter 37 loss: 0.26065475619192857\n",
      "Change in x_s: 0.02143007516860962\n",
      "Iter 38 loss: 0.2606469517644166\n",
      "Change in x_s: 0.020769746974110603\n",
      "Iter 39 loss: 0.2606397868453809\n",
      "Change in x_s: 0.019584080204367638\n",
      "Iter 40 loss: 0.26063344991280213\n",
      "Change in x_s: 0.018545951694250107\n",
      "Iter 41 loss: 0.2606279399722153\n",
      "Change in x_s: 0.01761750504374504\n",
      "Iter 42 loss: 0.2606229966393479\n",
      "Change in x_s: 0.016202915459871292\n",
      "Iter 43 loss: 0.26061897486757024\n",
      "Change in x_s: 0.015935271978378296\n",
      "Iter 44 loss: 0.2606151062613533\n",
      "Change in x_s: 0.015278673730790615\n",
      "Iter 45 loss: 0.2606117522056293\n",
      "Change in x_s: 0.013843238353729248\n",
      "Iter 46 loss: 0.26060912802453384\n",
      "Change in x_s: 0.012517811730504036\n",
      "Iter 47 loss: 0.2606069958261481\n",
      "Change in x_s: 0.01218443550169468\n",
      "Iter 48 loss: 0.26060492693778503\n",
      "Change in x_s: 0.015062598511576653\n",
      "Iter 49 loss: 0.26060187316572714\n",
      "Change in x_s: 0.014062078669667244\n",
      "Iter 50 loss: 0.260599357382358\n",
      "Change in x_s: 0.014852472580969334\n",
      "Iter 51 loss: 0.26059645772871415\n",
      "Change in x_s: 0.014043047092854977\n",
      "Iter 52 loss: 0.26059391322602776\n",
      "Change in x_s: 0.013179877772927284\n",
      "Iter 53 loss: 0.2605917044707158\n",
      "Change in x_s: 0.012947214767336845\n",
      "Iter 54 loss: 0.26058966719470056\n",
      "Change in x_s: 0.011440634727478027\n",
      "Iter 55 loss: 0.26058809984520087\n",
      "Change in x_s: 0.010360103100538254\n",
      "Iter 56 loss: 0.2605868265570347\n",
      "Change in x_s: 0.009818674065172672\n",
      "Iter 57 loss: 0.2605857137974338\n",
      "Change in x_s: 0.00922752358019352\n",
      "Iter 58 loss: 0.26058472239365726\n",
      "Change in x_s: 0.009042794816195965\n",
      "Iter 59 loss: 0.2605837894880419\n",
      "Change in x_s: 0.00875236839056015\n",
      "Iter 60 loss: 0.26058289661940326\n",
      "Change in x_s: 0.008553712628781796\n",
      "Iter 61 loss: 0.2605820806107091\n",
      "Change in x_s: 0.008289665915071964\n",
      "Iter 62 loss: 0.2605813889195464\n",
      "Change in x_s: 0.008108820766210556\n",
      "Iter 63 loss: 0.260580730085723\n",
      "Change in x_s: 0.008920211344957352\n",
      "Iter 64 loss: 0.2605798824374789\n",
      "Change in x_s: 0.007946964353322983\n",
      "Iter 65 loss: 0.26057924099302676\n",
      "Change in x_s: 0.0074614654295146465\n",
      "Iter 66 loss: 0.2605786514475829\n",
      "Change in x_s: 0.007226872257888317\n",
      "Iter 67 loss: 0.26057808007825295\n",
      "Change in x_s: 0.006560197565704584\n",
      "Iter 68 loss: 0.2605776084159664\n",
      "Change in x_s: 0.006126584019511938\n",
      "Converged at iteration 68\n"
     ]
    },
    {
     "ename": "AttributeError",
     "evalue": "'tuple' object has no attribute 'shape'",
     "output_type": "error",
     "traceback": [
      "\u001b[0;31m---------------------------------------------------------------------------\u001b[0m",
      "\u001b[0;31mAttributeError\u001b[0m                            Traceback (most recent call last)",
      "\u001b[0;32m/tmp/ipykernel_690516/2101854690.py\u001b[0m in \u001b[0;36m<module>\u001b[0;34m\u001b[0m\n\u001b[1;32m     10\u001b[0m     \u001b[0msource_groups\u001b[0m\u001b[0;34m,\u001b[0m\u001b[0;34m\u001b[0m\u001b[0;34m\u001b[0m\u001b[0m\n\u001b[1;32m     11\u001b[0m     \u001b[0mtarget_groups\u001b[0m\u001b[0;34m,\u001b[0m\u001b[0;34m\u001b[0m\u001b[0;34m\u001b[0m\u001b[0m\n\u001b[0;32m---> 12\u001b[0;31m     [\"group 1\", \"group 2\", \"group 3\"])\n\u001b[0m",
      "\u001b[0;32m~/src/explainable_domain_shift/src/distance.py\u001b[0m in \u001b[0;36mgroup_percent_explained\u001b[0;34m(source, source_t, target, source_groups, target_groups, group_names)\u001b[0m\n\u001b[1;32m     15\u001b[0m \u001b[0;32mdef\u001b[0m \u001b[0mgroup_percent_explained\u001b[0m\u001b[0;34m(\u001b[0m\u001b[0msource\u001b[0m\u001b[0;34m,\u001b[0m \u001b[0msource_t\u001b[0m\u001b[0;34m,\u001b[0m \u001b[0mtarget\u001b[0m\u001b[0;34m,\u001b[0m \u001b[0msource_groups\u001b[0m\u001b[0;34m,\u001b[0m \u001b[0mtarget_groups\u001b[0m\u001b[0;34m,\u001b[0m \u001b[0mgroup_names\u001b[0m\u001b[0;34m)\u001b[0m\u001b[0;34m:\u001b[0m\u001b[0;34m\u001b[0m\u001b[0;34m\u001b[0m\u001b[0m\n\u001b[1;32m     16\u001b[0m     \u001b[0mW2_squared\u001b[0m \u001b[0;34m=\u001b[0m \u001b[0mW2_dist\u001b[0m\u001b[0;34m(\u001b[0m\u001b[0msource\u001b[0m\u001b[0;34m,\u001b[0m \u001b[0mtarget\u001b[0m\u001b[0;34m)\u001b[0m\u001b[0;34m\u001b[0m\u001b[0;34m\u001b[0m\u001b[0m\n\u001b[0;32m---> 17\u001b[0;31m     \u001b[0mW2_squared_t\u001b[0m \u001b[0;34m=\u001b[0m \u001b[0mW2_dist\u001b[0m\u001b[0;34m(\u001b[0m\u001b[0msource_t\u001b[0m\u001b[0;34m,\u001b[0m \u001b[0mtarget\u001b[0m\u001b[0;34m)\u001b[0m\u001b[0;34m\u001b[0m\u001b[0;34m\u001b[0m\u001b[0m\n\u001b[0m\u001b[1;32m     18\u001b[0m     \u001b[0mpe\u001b[0m \u001b[0;34m=\u001b[0m \u001b[0;34m(\u001b[0m\u001b[0mW2_squared\u001b[0m \u001b[0;34m-\u001b[0m \u001b[0mW2_squared_t\u001b[0m\u001b[0;34m)\u001b[0m \u001b[0;34m/\u001b[0m \u001b[0mW2_squared\u001b[0m\u001b[0;34m\u001b[0m\u001b[0;34m\u001b[0m\u001b[0m\n\u001b[1;32m     19\u001b[0m     \u001b[0mtotal_pe\u001b[0m \u001b[0;34m=\u001b[0m \u001b[0mpe\u001b[0m \u001b[0;34m*\u001b[0m \u001b[0;36m100\u001b[0m\u001b[0;34m\u001b[0m\u001b[0;34m\u001b[0m\u001b[0m\n",
      "\u001b[0;32m~/src/explainable_domain_shift/src/distance.py\u001b[0m in \u001b[0;36mW2_dist\u001b[0;34m(X1, X2, squared)\u001b[0m\n\u001b[1;32m      7\u001b[0m \u001b[0;32mdef\u001b[0m \u001b[0mW2_dist\u001b[0m\u001b[0;34m(\u001b[0m\u001b[0mX1\u001b[0m\u001b[0;34m:\u001b[0m \u001b[0mnp\u001b[0m\u001b[0;34m.\u001b[0m\u001b[0mndarray\u001b[0m\u001b[0;34m,\u001b[0m \u001b[0mX2\u001b[0m\u001b[0;34m:\u001b[0m \u001b[0mnp\u001b[0m\u001b[0;34m.\u001b[0m\u001b[0mndarray\u001b[0m\u001b[0;34m,\u001b[0m \u001b[0msquared\u001b[0m\u001b[0;34m=\u001b[0m\u001b[0;32mTrue\u001b[0m\u001b[0;34m)\u001b[0m \u001b[0;34m->\u001b[0m \u001b[0mfloat\u001b[0m\u001b[0;34m:\u001b[0m\u001b[0;34m\u001b[0m\u001b[0;34m\u001b[0m\u001b[0m\n\u001b[1;32m      8\u001b[0m     \u001b[0;34m\"\"\"Calculate the squared Wasserstein-2 distance between the distributions\"\"\"\u001b[0m\u001b[0;34m\u001b[0m\u001b[0;34m\u001b[0m\u001b[0m\n\u001b[0;32m----> 9\u001b[0;31m     \u001b[0ma\u001b[0m\u001b[0;34m,\u001b[0m \u001b[0mb\u001b[0m \u001b[0;34m=\u001b[0m \u001b[0mot\u001b[0m\u001b[0;34m.\u001b[0m\u001b[0mutils\u001b[0m\u001b[0;34m.\u001b[0m\u001b[0munif\u001b[0m\u001b[0;34m(\u001b[0m\u001b[0mX1\u001b[0m\u001b[0;34m.\u001b[0m\u001b[0mshape\u001b[0m\u001b[0;34m[\u001b[0m\u001b[0;36m0\u001b[0m\u001b[0;34m]\u001b[0m\u001b[0;34m)\u001b[0m\u001b[0;34m,\u001b[0m \u001b[0mot\u001b[0m\u001b[0;34m.\u001b[0m\u001b[0mutils\u001b[0m\u001b[0;34m.\u001b[0m\u001b[0munif\u001b[0m\u001b[0;34m(\u001b[0m\u001b[0mX2\u001b[0m\u001b[0;34m.\u001b[0m\u001b[0mshape\u001b[0m\u001b[0;34m[\u001b[0m\u001b[0;36m0\u001b[0m\u001b[0;34m]\u001b[0m\u001b[0;34m)\u001b[0m\u001b[0;34m\u001b[0m\u001b[0;34m\u001b[0m\u001b[0m\n\u001b[0m\u001b[1;32m     10\u001b[0m     \u001b[0mM\u001b[0m \u001b[0;34m=\u001b[0m \u001b[0mot\u001b[0m\u001b[0;34m.\u001b[0m\u001b[0mutils\u001b[0m\u001b[0;34m.\u001b[0m\u001b[0meuclidean_distances\u001b[0m\u001b[0;34m(\u001b[0m\u001b[0mX1\u001b[0m\u001b[0;34m,\u001b[0m \u001b[0mX2\u001b[0m\u001b[0;34m,\u001b[0m \u001b[0msquared\u001b[0m\u001b[0;34m=\u001b[0m\u001b[0;32mTrue\u001b[0m\u001b[0;34m)\u001b[0m\u001b[0;34m\u001b[0m\u001b[0;34m\u001b[0m\u001b[0m\n\u001b[1;32m     11\u001b[0m     \u001b[0mW2_squared\u001b[0m \u001b[0;34m=\u001b[0m \u001b[0mot\u001b[0m\u001b[0;34m.\u001b[0m\u001b[0memd2\u001b[0m\u001b[0;34m(\u001b[0m\u001b[0ma\u001b[0m\u001b[0;34m,\u001b[0m \u001b[0mb\u001b[0m\u001b[0;34m,\u001b[0m \u001b[0mM\u001b[0m\u001b[0;34m,\u001b[0m \u001b[0mnumItermax\u001b[0m\u001b[0;34m=\u001b[0m\u001b[0mint\u001b[0m\u001b[0;34m(\u001b[0m\u001b[0;36m1e9\u001b[0m\u001b[0;34m)\u001b[0m\u001b[0;34m)\u001b[0m\u001b[0;34m\u001b[0m\u001b[0;34m\u001b[0m\u001b[0m\n",
      "\u001b[0;31mAttributeError\u001b[0m: 'tuple' object has no attribute 'shape'"
     ]
    }
   ],
   "source": [
    "from src.optimal_transport import group_kmeans_shift_transport\n",
    "\n",
    "source_transformed, centroids, shift = group_kmeans_shift_transport(\n",
    "    source, target, source_groups, target_groups, source.shape[1], clusters=10, lr=50, iters=100)\n",
    "\n",
    "total, worst = group_percent_explained(\n",
    "    source,\n",
    "    source_transformed,\n",
    "    target,\n",
    "    source_groups,\n",
    "    target_groups,\n",
    "    [\"group 1\", \"group 2\", \"group 3\"])"
   ]
  },
  {
   "attachments": {},
   "cell_type": "markdown",
   "metadata": {},
   "source": [
    "# DiCE Explanation"
   ]
  },
  {
   "cell_type": "code",
   "execution_count": 22,
   "metadata": {},
   "outputs": [
    {
     "name": "stdout",
     "output_type": "stream",
     "text": [
      "torch.Size([200, 100])\n",
      "torch.Size([200, 1])\n"
     ]
    },
    {
     "name": "stderr",
     "output_type": "stream",
     "text": [
      "0 0.5646967162821682\n",
      "1 0.5684466510028345\n",
      "2 0.6020221760203244\n",
      "3 0.5905157518517254\n",
      "4 0.5743872311436728\n",
      "5 0.5552124658609248\n",
      "6 0.5575568691097701\n",
      "7 0.5830634696933974\n",
      "8 0.5872456684436653\n",
      "9 0.5781735810993294\n",
      "10 0.6001005633091373\n",
      "11 0.5779612840460175\n",
      "12 0.5724879026779226\n",
      "13 0.5585752457199825\n",
      "14 0.5728329345086841\n",
      "15 0.5700583544517105\n",
      "16 0.6041185567357723\n",
      "17 0.5349448187864807\n",
      "18 0.5710716627639437\n",
      "19 0.5879965620256725\n",
      "20 0.5934585568899036\n",
      "21 0.5814265920694853\n",
      "22 0.5258307599117527\n",
      "23 0.5256975821066852\n",
      "24 0.5671815394447962\n",
      "25 0.5640517915228851\n",
      "26 0.5702460963993667\n",
      "27 0.5830014061834643\n",
      "28 0.5231584355595293\n",
      "29 0.5960906148085098\n",
      "30 0.5495719371119099\n",
      "31 0.5574329607133821\n",
      "32 0.5242046149104942\n",
      "33 0.5531002632037804\n",
      "34 0.5527923517493945\n",
      "35 0.5701045036431465\n",
      "36 0.5435965889626042\n",
      "37 0.5655239723388956\n",
      "38 0.570016208484311\n",
      "39 0.5316486688383503\n",
      "40 0.5490228124346137\n",
      "41 0.541185790117541\n",
      "42 0.5545019599594472\n",
      "43 0.5226293020552173\n",
      "44 0.5626357190548776\n",
      "45 0.5630115659251509\n",
      "46 0.5377684500970255\n",
      "47 0.5287987658252378\n",
      "48 0.5852358895165697\n",
      "49 0.5328935487033623\n",
      "50 0.5518044466171312\n",
      "51 0.5863877192150484\n",
      "52 0.5550937897316929\n",
      "53 0.532040252155703\n",
      "54 0.5276163239961993\n",
      "55 0.5640146556697168\n",
      "56 0.5166697594991507\n",
      "57 0.5633271119137881\n",
      "58 0.5414100629121961\n",
      "59 0.5501992598824155\n"
     ]
    },
    {
     "name": "stdout",
     "output_type": "stream",
     "text": [
      "Accuracy: tensor(0.7450)\n",
      "tensor([0.7500, 0.7629, 0.8469, 0.7450], dtype=torch.float64)\n"
     ]
    },
    {
     "name": "stderr",
     "output_type": "stream",
     "text": [
      "60 0.5169731542428861\n",
      "61 0.5665319842503863\n",
      "62 0.5514115142514588\n",
      "63 0.5281633192224161\n",
      "64 0.5149438251755066\n",
      "65 0.526123579881369\n",
      "66 0.49664159534932617\n",
      "67 0.5365005806835361\n",
      "68 0.5058375955782288\n",
      "69 0.4971205615015871\n",
      "70 0.5133794098511908\n",
      "71 0.5061275432834098\n",
      "72 0.4801419115565604\n",
      "73 0.5132701244576894\n",
      "74 0.47579395913238587\n",
      "75 0.4780637576532572\n",
      "76 0.5110762685712118\n",
      "77 0.47930600810661894\n",
      "78 0.49076655436558525\n",
      "79 0.5033747938745621\n",
      "80 0.44159997536021806\n",
      "81 0.46809473500787024\n",
      "82 0.46970651701141614\n",
      "83 0.45641315874467125\n",
      "84 0.4504167997517661\n",
      "85 0.4411950337944187\n",
      "86 0.47950912282203145\n",
      "87 0.4460065858362359\n",
      "88 0.3847598215111057\n",
      "89 0.40605944742037564\n",
      "90 0.45611488559706415\n",
      "91 0.4282836470764167\n",
      "92 0.4694823043617202\n",
      "93 0.41469378128788126\n",
      "94 0.41267511617561226\n",
      "95 0.41469386386029417\n",
      "96 0.4174971002160177\n",
      "97 0.4461345631813839\n",
      "98 0.39044907213102864\n",
      "99 0.4271127271737333\n"
     ]
    }
   ],
   "source": [
    "from src.logistic_regression import FFNetwork\n",
    "from src.training import regular_training, dro_training\n",
    "from src.cf_transport import get_dice_transformed\n",
    "import torch\n",
    "import pandas as pd\n",
    "\n",
    "nn = FFNetwork(source.shape[1])\n",
    "x = torch.from_numpy(np.concatenate([source[:100], target[:100]])).float()\n",
    "y = torch.concatenate([torch.zeros(100), torch.ones(100)]).float()[:, None]\n",
    "print(x.shape)\n",
    "print(y.shape)\n",
    "group_mat = np.concatenate([source_groups[:100], target_groups[:100]], axis=0)\n",
    "group_mat = np.concatenate([group_mat, np.ones((group_mat.shape[0], 1))], axis=1)\n",
    "group_mat = torch.from_numpy(group_mat).double()\n",
    "\n",
    "# regular_training(nn, x, y, group_mat, 500, 0.2, 1e-4)\n",
    "dro_training(nn, x, y, group_mat, 100, 0.05, 1e-4)"
   ]
  },
  {
   "cell_type": "code",
   "execution_count": 25,
   "metadata": {},
   "outputs": [
    {
     "name": "stdout",
     "output_type": "stream",
     "text": [
      "new\n"
     ]
    },
    {
     "name": "stderr",
     "output_type": "stream",
     "text": [
      "  1%|          | 1/100 [00:00<00:15,  6.45it/s]"
     ]
    },
    {
     "name": "stdout",
     "output_type": "stream",
     "text": [
      "Diverse Counterfactuals found! total time taken: 00 min 00 sec\n"
     ]
    },
    {
     "name": "stderr",
     "output_type": "stream",
     "text": [
      "  2%|▏         | 2/100 [00:00<00:15,  6.40it/s]"
     ]
    },
    {
     "name": "stdout",
     "output_type": "stream",
     "text": [
      "Diverse Counterfactuals found! total time taken: 00 min 00 sec\n"
     ]
    },
    {
     "name": "stderr",
     "output_type": "stream",
     "text": [
      "  3%|▎         | 3/100 [00:00<00:31,  3.10it/s]"
     ]
    },
    {
     "name": "stdout",
     "output_type": "stream",
     "text": [
      "Diverse Counterfactuals found! total time taken: 00 min 00 sec\n"
     ]
    },
    {
     "name": "stderr",
     "output_type": "stream",
     "text": [
      "  5%|▌         | 5/100 [00:01<00:29,  3.23it/s]"
     ]
    },
    {
     "name": "stdout",
     "output_type": "stream",
     "text": [
      "Diverse Counterfactuals found! total time taken: 00 min 00 sec\n",
      "Diverse Counterfactuals found! total time taken: 00 min 00 sec\n"
     ]
    },
    {
     "name": "stderr",
     "output_type": "stream",
     "text": [
      "  7%|▋         | 7/100 [00:01<00:20,  4.46it/s]"
     ]
    },
    {
     "name": "stdout",
     "output_type": "stream",
     "text": [
      "Diverse Counterfactuals found! total time taken: 00 min 00 sec\n",
      "Diverse Counterfactuals found! total time taken: 00 min 00 sec\n"
     ]
    },
    {
     "name": "stderr",
     "output_type": "stream",
     "text": [
      "  8%|▊         | 8/100 [00:02<00:29,  3.17it/s]"
     ]
    },
    {
     "name": "stdout",
     "output_type": "stream",
     "text": [
      "Diverse Counterfactuals found! total time taken: 00 min 00 sec\n"
     ]
    },
    {
     "name": "stderr",
     "output_type": "stream",
     "text": [
      "  9%|▉         | 9/100 [00:02<00:34,  2.61it/s]"
     ]
    },
    {
     "name": "stdout",
     "output_type": "stream",
     "text": [
      "Diverse Counterfactuals found! total time taken: 00 min 00 sec\n"
     ]
    },
    {
     "name": "stderr",
     "output_type": "stream",
     "text": [
      " 10%|█         | 10/100 [00:03<00:38,  2.35it/s]"
     ]
    },
    {
     "name": "stdout",
     "output_type": "stream",
     "text": [
      "Diverse Counterfactuals found! total time taken: 00 min 00 sec\n"
     ]
    },
    {
     "name": "stderr",
     "output_type": "stream",
     "text": [
      " 12%|█▏        | 12/100 [00:04<00:31,  2.76it/s]"
     ]
    },
    {
     "name": "stdout",
     "output_type": "stream",
     "text": [
      "Diverse Counterfactuals found! total time taken: 00 min 00 sec\n",
      "Diverse Counterfactuals found! total time taken: 00 min 00 sec\n"
     ]
    },
    {
     "name": "stderr",
     "output_type": "stream",
     "text": [
      " 13%|█▎        | 13/100 [00:04<00:35,  2.45it/s]"
     ]
    },
    {
     "name": "stdout",
     "output_type": "stream",
     "text": [
      "Diverse Counterfactuals found! total time taken: 00 min 00 sec\n"
     ]
    },
    {
     "name": "stderr",
     "output_type": "stream",
     "text": [
      " 14%|█▍        | 14/100 [00:05<00:37,  2.28it/s]"
     ]
    },
    {
     "name": "stdout",
     "output_type": "stream",
     "text": [
      "Diverse Counterfactuals found! total time taken: 00 min 00 sec\n"
     ]
    },
    {
     "name": "stderr",
     "output_type": "stream",
     "text": [
      " 16%|█▌        | 16/100 [00:05<00:31,  2.70it/s]"
     ]
    },
    {
     "name": "stdout",
     "output_type": "stream",
     "text": [
      "Diverse Counterfactuals found! total time taken: 00 min 00 sec\n",
      "Diverse Counterfactuals found! total time taken: 00 min 00 sec\n"
     ]
    },
    {
     "name": "stderr",
     "output_type": "stream",
     "text": [
      " 17%|█▋        | 17/100 [00:06<00:34,  2.42it/s]"
     ]
    },
    {
     "name": "stdout",
     "output_type": "stream",
     "text": [
      "Diverse Counterfactuals found! total time taken: 00 min 00 sec\n"
     ]
    },
    {
     "name": "stderr",
     "output_type": "stream",
     "text": [
      " 18%|█▊        | 18/100 [00:06<00:36,  2.26it/s]"
     ]
    },
    {
     "name": "stdout",
     "output_type": "stream",
     "text": [
      "Diverse Counterfactuals found! total time taken: 00 min 00 sec\n"
     ]
    },
    {
     "name": "stderr",
     "output_type": "stream",
     "text": [
      " 19%|█▉        | 19/100 [00:07<00:37,  2.14it/s]"
     ]
    },
    {
     "name": "stdout",
     "output_type": "stream",
     "text": [
      "Diverse Counterfactuals found! total time taken: 00 min 00 sec\n"
     ]
    },
    {
     "name": "stderr",
     "output_type": "stream",
     "text": [
      " 21%|██        | 21/100 [00:07<00:30,  2.59it/s]"
     ]
    },
    {
     "name": "stdout",
     "output_type": "stream",
     "text": [
      "Diverse Counterfactuals found! total time taken: 00 min 00 sec\n",
      "Diverse Counterfactuals found! total time taken: 00 min 00 sec\n"
     ]
    },
    {
     "name": "stderr",
     "output_type": "stream",
     "text": [
      " 23%|██▎       | 23/100 [00:08<00:26,  2.90it/s]"
     ]
    },
    {
     "name": "stdout",
     "output_type": "stream",
     "text": [
      "Diverse Counterfactuals found! total time taken: 00 min 00 sec\n",
      "Diverse Counterfactuals found! total time taken: 00 min 00 sec\n"
     ]
    },
    {
     "name": "stderr",
     "output_type": "stream",
     "text": [
      " 24%|██▍       | 24/100 [00:09<00:29,  2.55it/s]"
     ]
    },
    {
     "name": "stdout",
     "output_type": "stream",
     "text": [
      "Diverse Counterfactuals found! total time taken: 00 min 00 sec\n"
     ]
    },
    {
     "name": "stderr",
     "output_type": "stream",
     "text": [
      " 26%|██▌       | 26/100 [00:09<00:25,  2.88it/s]"
     ]
    },
    {
     "name": "stdout",
     "output_type": "stream",
     "text": [
      "Diverse Counterfactuals found! total time taken: 00 min 00 sec\n",
      "Diverse Counterfactuals found! total time taken: 00 min 00 sec\n"
     ]
    },
    {
     "name": "stderr",
     "output_type": "stream",
     "text": [
      " 27%|██▋       | 27/100 [00:09<00:21,  3.45it/s]"
     ]
    },
    {
     "name": "stdout",
     "output_type": "stream",
     "text": [
      "Diverse Counterfactuals found! total time taken: 00 min 00 sec\n"
     ]
    },
    {
     "name": "stderr",
     "output_type": "stream",
     "text": [
      " 29%|██▉       | 29/100 [00:10<00:20,  3.40it/s]"
     ]
    },
    {
     "name": "stdout",
     "output_type": "stream",
     "text": [
      "Diverse Counterfactuals found! total time taken: 00 min 00 sec\n",
      "Diverse Counterfactuals found! total time taken: 00 min 00 sec\n"
     ]
    },
    {
     "name": "stderr",
     "output_type": "stream",
     "text": [
      " 31%|███       | 31/100 [00:11<00:20,  3.35it/s]"
     ]
    },
    {
     "name": "stdout",
     "output_type": "stream",
     "text": [
      "Diverse Counterfactuals found! total time taken: 00 min 00 sec\n",
      "Diverse Counterfactuals found! total time taken: 00 min 00 sec\n"
     ]
    },
    {
     "name": "stderr",
     "output_type": "stream",
     "text": [
      " 33%|███▎      | 33/100 [00:11<00:20,  3.35it/s]"
     ]
    },
    {
     "name": "stdout",
     "output_type": "stream",
     "text": [
      "Diverse Counterfactuals found! total time taken: 00 min 00 sec\n",
      "Diverse Counterfactuals found! total time taken: 00 min 00 sec\n"
     ]
    },
    {
     "name": "stderr",
     "output_type": "stream",
     "text": [
      " 34%|███▍      | 34/100 [00:12<00:17,  3.87it/s]"
     ]
    },
    {
     "name": "stdout",
     "output_type": "stream",
     "text": [
      "Diverse Counterfactuals found! total time taken: 00 min 00 sec\n"
     ]
    },
    {
     "name": "stderr",
     "output_type": "stream",
     "text": [
      " 35%|███▌      | 35/100 [00:12<00:21,  3.00it/s]"
     ]
    },
    {
     "name": "stdout",
     "output_type": "stream",
     "text": [
      "Diverse Counterfactuals found! total time taken: 00 min 00 sec\n"
     ]
    },
    {
     "name": "stderr",
     "output_type": "stream",
     "text": [
      " 36%|███▌      | 36/100 [00:13<00:24,  2.59it/s]"
     ]
    },
    {
     "name": "stdout",
     "output_type": "stream",
     "text": [
      "Diverse Counterfactuals found! total time taken: 00 min 00 sec\n"
     ]
    },
    {
     "name": "stderr",
     "output_type": "stream",
     "text": [
      " 38%|███▊      | 38/100 [00:13<00:21,  2.91it/s]"
     ]
    },
    {
     "name": "stdout",
     "output_type": "stream",
     "text": [
      "Diverse Counterfactuals found! total time taken: 00 min 00 sec\n",
      "Diverse Counterfactuals found! total time taken: 00 min 00 sec\n"
     ]
    },
    {
     "name": "stderr",
     "output_type": "stream",
     "text": [
      " 39%|███▉      | 39/100 [00:13<00:17,  3.48it/s]"
     ]
    },
    {
     "name": "stdout",
     "output_type": "stream",
     "text": [
      "Diverse Counterfactuals found! total time taken: 00 min 00 sec\n"
     ]
    },
    {
     "name": "stderr",
     "output_type": "stream",
     "text": [
      " 41%|████      | 41/100 [00:14<00:17,  3.40it/s]"
     ]
    },
    {
     "name": "stdout",
     "output_type": "stream",
     "text": [
      "Diverse Counterfactuals found! total time taken: 00 min 00 sec\n",
      "Diverse Counterfactuals found! total time taken: 00 min 00 sec\n"
     ]
    },
    {
     "name": "stderr",
     "output_type": "stream",
     "text": [
      " 43%|████▎     | 43/100 [00:15<00:17,  3.34it/s]"
     ]
    },
    {
     "name": "stdout",
     "output_type": "stream",
     "text": [
      "Diverse Counterfactuals found! total time taken: 00 min 00 sec\n",
      "Diverse Counterfactuals found! total time taken: 00 min 00 sec\n"
     ]
    },
    {
     "name": "stderr",
     "output_type": "stream",
     "text": [
      " 44%|████▍     | 44/100 [00:15<00:20,  2.74it/s]"
     ]
    },
    {
     "name": "stdout",
     "output_type": "stream",
     "text": [
      "Diverse Counterfactuals found! total time taken: 00 min 00 sec\n"
     ]
    },
    {
     "name": "stderr",
     "output_type": "stream",
     "text": [
      " 45%|████▌     | 45/100 [00:16<00:22,  2.44it/s]"
     ]
    },
    {
     "name": "stdout",
     "output_type": "stream",
     "text": [
      "Diverse Counterfactuals found! total time taken: 00 min 00 sec\n"
     ]
    },
    {
     "name": "stderr",
     "output_type": "stream",
     "text": [
      " 47%|████▋     | 47/100 [00:17<00:18,  2.80it/s]"
     ]
    },
    {
     "name": "stdout",
     "output_type": "stream",
     "text": [
      "Diverse Counterfactuals found! total time taken: 00 min 00 sec\n",
      "Diverse Counterfactuals found! total time taken: 00 min 00 sec\n"
     ]
    },
    {
     "name": "stderr",
     "output_type": "stream",
     "text": [
      " 49%|████▉     | 49/100 [00:17<00:12,  3.94it/s]"
     ]
    },
    {
     "name": "stdout",
     "output_type": "stream",
     "text": [
      "Diverse Counterfactuals found! total time taken: 00 min 00 sec\n",
      "Diverse Counterfactuals found! total time taken: 00 min 00 sec\n"
     ]
    },
    {
     "name": "stderr",
     "output_type": "stream",
     "text": [
      " 50%|█████     | 50/100 [00:17<00:11,  4.44it/s]"
     ]
    },
    {
     "name": "stdout",
     "output_type": "stream",
     "text": [
      "Diverse Counterfactuals found! total time taken: 00 min 00 sec\n"
     ]
    },
    {
     "name": "stderr",
     "output_type": "stream",
     "text": [
      " 51%|█████     | 51/100 [00:18<00:15,  3.21it/s]"
     ]
    },
    {
     "name": "stdout",
     "output_type": "stream",
     "text": [
      "Diverse Counterfactuals found! total time taken: 00 min 00 sec\n"
     ]
    },
    {
     "name": "stderr",
     "output_type": "stream",
     "text": [
      " 52%|█████▏    | 52/100 [00:18<00:18,  2.67it/s]"
     ]
    },
    {
     "name": "stdout",
     "output_type": "stream",
     "text": [
      "Diverse Counterfactuals found! total time taken: 00 min 00 sec\n"
     ]
    },
    {
     "name": "stderr",
     "output_type": "stream",
     "text": [
      " 54%|█████▍    | 54/100 [00:19<00:15,  2.96it/s]"
     ]
    },
    {
     "name": "stdout",
     "output_type": "stream",
     "text": [
      "Diverse Counterfactuals found! total time taken: 00 min 00 sec\n",
      "Diverse Counterfactuals found! total time taken: 00 min 00 sec\n"
     ]
    },
    {
     "name": "stderr",
     "output_type": "stream",
     "text": [
      " 55%|█████▌    | 55/100 [00:19<00:12,  3.53it/s]"
     ]
    },
    {
     "name": "stdout",
     "output_type": "stream",
     "text": [
      "Diverse Counterfactuals found! total time taken: 00 min 00 sec\n"
     ]
    },
    {
     "name": "stderr",
     "output_type": "stream",
     "text": [
      " 57%|█████▋    | 57/100 [00:20<00:12,  3.40it/s]"
     ]
    },
    {
     "name": "stdout",
     "output_type": "stream",
     "text": [
      "Diverse Counterfactuals found! total time taken: 00 min 00 sec\n",
      "Diverse Counterfactuals found! total time taken: 00 min 00 sec\n"
     ]
    },
    {
     "name": "stderr",
     "output_type": "stream",
     "text": [
      " 58%|█████▊    | 58/100 [00:20<00:10,  3.96it/s]"
     ]
    },
    {
     "name": "stdout",
     "output_type": "stream",
     "text": [
      "Diverse Counterfactuals found! total time taken: 00 min 00 sec\n"
     ]
    },
    {
     "name": "stderr",
     "output_type": "stream",
     "text": [
      " 60%|██████    | 60/100 [00:20<00:11,  3.59it/s]"
     ]
    },
    {
     "name": "stdout",
     "output_type": "stream",
     "text": [
      "Diverse Counterfactuals found! total time taken: 00 min 00 sec\n",
      "Diverse Counterfactuals found! total time taken: 00 min 00 sec\n"
     ]
    },
    {
     "name": "stderr",
     "output_type": "stream",
     "text": [
      " 61%|██████    | 61/100 [00:21<00:09,  4.13it/s]"
     ]
    },
    {
     "name": "stdout",
     "output_type": "stream",
     "text": [
      "Diverse Counterfactuals found! total time taken: 00 min 00 sec\n"
     ]
    },
    {
     "name": "stderr",
     "output_type": "stream",
     "text": [
      " 63%|██████▎   | 63/100 [00:21<00:10,  3.65it/s]"
     ]
    },
    {
     "name": "stdout",
     "output_type": "stream",
     "text": [
      "Diverse Counterfactuals found! total time taken: 00 min 00 sec\n",
      "Diverse Counterfactuals found! total time taken: 00 min 00 sec\n"
     ]
    },
    {
     "name": "stderr",
     "output_type": "stream",
     "text": [
      " 65%|██████▌   | 65/100 [00:22<00:10,  3.43it/s]"
     ]
    },
    {
     "name": "stdout",
     "output_type": "stream",
     "text": [
      "Diverse Counterfactuals found! total time taken: 00 min 00 sec\n",
      "Diverse Counterfactuals found! total time taken: 00 min 00 sec\n"
     ]
    },
    {
     "name": "stderr",
     "output_type": "stream",
     "text": [
      " 66%|██████▌   | 66/100 [00:22<00:12,  2.80it/s]"
     ]
    },
    {
     "name": "stdout",
     "output_type": "stream",
     "text": [
      "Diverse Counterfactuals found! total time taken: 00 min 00 sec\n"
     ]
    },
    {
     "name": "stderr",
     "output_type": "stream",
     "text": [
      " 67%|██████▋   | 67/100 [00:23<00:15,  2.12it/s]"
     ]
    },
    {
     "name": "stdout",
     "output_type": "stream",
     "text": [
      "Diverse Counterfactuals found! total time taken: 00 min 00 sec\n"
     ]
    },
    {
     "name": "stderr",
     "output_type": "stream",
     "text": [
      " 68%|██████▊   | 68/100 [00:24<00:15,  2.06it/s]"
     ]
    },
    {
     "name": "stdout",
     "output_type": "stream",
     "text": [
      "Diverse Counterfactuals found! total time taken: 00 min 00 sec\n"
     ]
    },
    {
     "name": "stderr",
     "output_type": "stream",
     "text": [
      " 69%|██████▉   | 69/100 [00:24<00:15,  2.02it/s]"
     ]
    },
    {
     "name": "stdout",
     "output_type": "stream",
     "text": [
      "Diverse Counterfactuals found! total time taken: 00 min 00 sec\n"
     ]
    },
    {
     "name": "stderr",
     "output_type": "stream",
     "text": [
      " 70%|███████   | 70/100 [00:25<00:14,  2.00it/s]"
     ]
    },
    {
     "name": "stdout",
     "output_type": "stream",
     "text": [
      "Diverse Counterfactuals found! total time taken: 00 min 00 sec\n"
     ]
    },
    {
     "name": "stderr",
     "output_type": "stream",
     "text": [
      " 72%|███████▏  | 72/100 [00:25<00:11,  2.50it/s]"
     ]
    },
    {
     "name": "stdout",
     "output_type": "stream",
     "text": [
      "Diverse Counterfactuals found! total time taken: 00 min 00 sec\n",
      "Diverse Counterfactuals found! total time taken: 00 min 00 sec\n"
     ]
    },
    {
     "name": "stderr",
     "output_type": "stream",
     "text": [
      " 74%|███████▍  | 74/100 [00:26<00:09,  2.85it/s]"
     ]
    },
    {
     "name": "stdout",
     "output_type": "stream",
     "text": [
      "Diverse Counterfactuals found! total time taken: 00 min 00 sec\n",
      "Diverse Counterfactuals found! total time taken: 00 min 00 sec\n"
     ]
    },
    {
     "name": "stderr",
     "output_type": "stream",
     "text": [
      " 75%|███████▌  | 75/100 [00:27<00:10,  2.48it/s]"
     ]
    },
    {
     "name": "stdout",
     "output_type": "stream",
     "text": [
      "Diverse Counterfactuals found! total time taken: 00 min 00 sec\n"
     ]
    },
    {
     "name": "stderr",
     "output_type": "stream",
     "text": [
      " 76%|███████▌  | 76/100 [00:27<00:10,  2.28it/s]"
     ]
    },
    {
     "name": "stdout",
     "output_type": "stream",
     "text": [
      "Diverse Counterfactuals found! total time taken: 00 min 00 sec\n"
     ]
    },
    {
     "name": "stderr",
     "output_type": "stream",
     "text": [
      " 77%|███████▋  | 77/100 [00:28<00:10,  2.17it/s]"
     ]
    },
    {
     "name": "stdout",
     "output_type": "stream",
     "text": [
      "Diverse Counterfactuals found! total time taken: 00 min 00 sec\n"
     ]
    },
    {
     "name": "stderr",
     "output_type": "stream",
     "text": [
      " 78%|███████▊  | 78/100 [00:28<00:10,  2.09it/s]"
     ]
    },
    {
     "name": "stdout",
     "output_type": "stream",
     "text": [
      "Diverse Counterfactuals found! total time taken: 00 min 00 sec\n"
     ]
    },
    {
     "name": "stderr",
     "output_type": "stream",
     "text": [
      " 80%|████████  | 80/100 [00:29<00:07,  2.58it/s]"
     ]
    },
    {
     "name": "stdout",
     "output_type": "stream",
     "text": [
      "Diverse Counterfactuals found! total time taken: 00 min 00 sec\n",
      "Diverse Counterfactuals found! total time taken: 00 min 00 sec\n"
     ]
    },
    {
     "name": "stderr",
     "output_type": "stream",
     "text": [
      " 82%|████████▏ | 82/100 [00:29<00:04,  3.71it/s]"
     ]
    },
    {
     "name": "stdout",
     "output_type": "stream",
     "text": [
      "Diverse Counterfactuals found! total time taken: 00 min 00 sec\n",
      "Diverse Counterfactuals found! total time taken: 00 min 00 sec\n"
     ]
    },
    {
     "name": "stderr",
     "output_type": "stream",
     "text": [
      " 83%|████████▎ | 83/100 [00:30<00:05,  2.91it/s]"
     ]
    },
    {
     "name": "stdout",
     "output_type": "stream",
     "text": [
      "Diverse Counterfactuals found! total time taken: 00 min 00 sec\n"
     ]
    },
    {
     "name": "stderr",
     "output_type": "stream",
     "text": [
      " 84%|████████▍ | 84/100 [00:30<00:06,  2.53it/s]"
     ]
    },
    {
     "name": "stdout",
     "output_type": "stream",
     "text": [
      "Diverse Counterfactuals found! total time taken: 00 min 00 sec\n"
     ]
    },
    {
     "name": "stderr",
     "output_type": "stream",
     "text": [
      " 85%|████████▌ | 85/100 [00:31<00:06,  2.31it/s]"
     ]
    },
    {
     "name": "stdout",
     "output_type": "stream",
     "text": [
      "Diverse Counterfactuals found! total time taken: 00 min 00 sec\n"
     ]
    },
    {
     "name": "stderr",
     "output_type": "stream",
     "text": [
      " 87%|████████▋ | 87/100 [00:31<00:04,  2.70it/s]"
     ]
    },
    {
     "name": "stdout",
     "output_type": "stream",
     "text": [
      "Diverse Counterfactuals found! total time taken: 00 min 00 sec\n",
      "Diverse Counterfactuals found! total time taken: 00 min 00 sec\n"
     ]
    },
    {
     "name": "stderr",
     "output_type": "stream",
     "text": [
      " 88%|████████▊ | 88/100 [00:32<00:04,  2.42it/s]"
     ]
    },
    {
     "name": "stdout",
     "output_type": "stream",
     "text": [
      "Diverse Counterfactuals found! total time taken: 00 min 00 sec\n"
     ]
    },
    {
     "name": "stderr",
     "output_type": "stream",
     "text": [
      " 89%|████████▉ | 89/100 [00:32<00:04,  2.25it/s]"
     ]
    },
    {
     "name": "stdout",
     "output_type": "stream",
     "text": [
      "Diverse Counterfactuals found! total time taken: 00 min 00 sec\n"
     ]
    },
    {
     "name": "stderr",
     "output_type": "stream",
     "text": [
      " 90%|█████████ | 90/100 [00:33<00:04,  2.15it/s]"
     ]
    },
    {
     "name": "stdout",
     "output_type": "stream",
     "text": [
      "Diverse Counterfactuals found! total time taken: 00 min 00 sec\n"
     ]
    },
    {
     "name": "stderr",
     "output_type": "stream",
     "text": [
      " 91%|█████████ | 91/100 [00:33<00:04,  2.09it/s]"
     ]
    },
    {
     "name": "stdout",
     "output_type": "stream",
     "text": [
      "Diverse Counterfactuals found! total time taken: 00 min 00 sec\n"
     ]
    },
    {
     "name": "stderr",
     "output_type": "stream",
     "text": [
      " 93%|█████████▎| 93/100 [00:34<00:02,  2.57it/s]"
     ]
    },
    {
     "name": "stdout",
     "output_type": "stream",
     "text": [
      "Diverse Counterfactuals found! total time taken: 00 min 00 sec\n",
      "Diverse Counterfactuals found! total time taken: 00 min 00 sec\n"
     ]
    },
    {
     "name": "stderr",
     "output_type": "stream",
     "text": [
      " 94%|█████████▍| 94/100 [00:35<00:02,  2.34it/s]"
     ]
    },
    {
     "name": "stdout",
     "output_type": "stream",
     "text": [
      "Diverse Counterfactuals found! total time taken: 00 min 00 sec\n"
     ]
    },
    {
     "name": "stderr",
     "output_type": "stream",
     "text": [
      " 96%|█████████▌| 96/100 [00:35<00:01,  2.75it/s]"
     ]
    },
    {
     "name": "stdout",
     "output_type": "stream",
     "text": [
      "Diverse Counterfactuals found! total time taken: 00 min 00 sec\n",
      "Diverse Counterfactuals found! total time taken: 00 min 00 sec\n"
     ]
    },
    {
     "name": "stderr",
     "output_type": "stream",
     "text": [
      " 97%|█████████▋| 97/100 [00:36<00:01,  2.42it/s]"
     ]
    },
    {
     "name": "stdout",
     "output_type": "stream",
     "text": [
      "Diverse Counterfactuals found! total time taken: 00 min 00 sec\n"
     ]
    },
    {
     "name": "stderr",
     "output_type": "stream",
     "text": [
      " 98%|█████████▊| 98/100 [00:36<00:00,  2.26it/s]"
     ]
    },
    {
     "name": "stdout",
     "output_type": "stream",
     "text": [
      "Diverse Counterfactuals found! total time taken: 00 min 00 sec\n"
     ]
    },
    {
     "name": "stderr",
     "output_type": "stream",
     "text": [
      "100%|██████████| 100/100 [00:37<00:00,  2.67it/s]"
     ]
    },
    {
     "name": "stdout",
     "output_type": "stream",
     "text": [
      "Diverse Counterfactuals found! total time taken: 00 min 00 sec\n",
      "Diverse Counterfactuals found! total time taken: 00 min 00 sec\n"
     ]
    },
    {
     "name": "stderr",
     "output_type": "stream",
     "text": [
      "\n"
     ]
    }
   ],
   "source": [
    "all_data = pd.DataFrame(torch.concatenate([x, y], dim=1).numpy()).rename(columns={100: \"label\"})\n",
    "source_transformed = get_dice_transformed(\n",
    "    nn,\n",
    "    all_data,\n",
    "    pd.DataFrame(source[:100]),\n",
    "    \"label\",\n",
    "    0)"
   ]
  },
  {
   "cell_type": "code",
   "execution_count": 26,
   "metadata": {},
   "outputs": [
    {
     "name": "stdout",
     "output_type": "stream",
     "text": [
      "Total Percent Explained: -2.4548686252084657\n",
      "group 1 Percent Explained: -2.071259131143669\n",
      "group 2 Percent Explained: -1.9840665351005797\n",
      "group 3 Percent Explained: -2.66517481706889\n",
      "Worst group PE: -2.66517481706889\n"
     ]
    }
   ],
   "source": [
    "total, worst = group_percent_explained(\n",
    "    source[:100],\n",
    "    source_transformed.to_numpy().astype(float),\n",
    "    target[:100],\n",
    "    source_groups[:100],\n",
    "    target_groups[:100],\n",
    "    [\"group 1\", \"group 2\", \"group 3\"])"
   ]
  },
  {
   "cell_type": "code",
   "execution_count": null,
   "metadata": {},
   "outputs": [],
   "source": []
  }
 ],
 "metadata": {
  "kernelspec": {
   "display_name": "explainshift",
   "language": "python",
   "name": "python3"
  },
  "language_info": {
   "codemirror_mode": {
    "name": "ipython",
    "version": 3
   },
   "file_extension": ".py",
   "mimetype": "text/x-python",
   "name": "python",
   "nbconvert_exporter": "python",
   "pygments_lexer": "ipython3",
   "version": "3.7.9"
  },
  "orig_nbformat": 4
 },
 "nbformat": 4,
 "nbformat_minor": 2
}
